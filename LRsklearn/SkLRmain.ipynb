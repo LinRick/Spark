{
 "cells": [
  {
   "cell_type": "code",
   "execution_count": 1,
   "metadata": {
    "collapsed": true
   },
   "outputs": [],
   "source": [
    "import numpy as np\n",
    "from sklearn import datasets, linear_model\n",
    "from sklearn.metrics import mean_squared_error, r2_score\n",
    "import datetime"
   ]
  },
  {
   "cell_type": "code",
   "execution_count": 2,
   "metadata": {
    "collapsed": true
   },
   "outputs": [],
   "source": [
    "def mse(predictions, targets):\n",
    "    return ((predictions - targets) ** 2).mean()"
   ]
  },
  {
   "cell_type": "code",
   "execution_count": 3,
   "metadata": {
    "collapsed": false,
    "scrolled": true
   },
   "outputs": [],
   "source": [
    "with open('Z:/root/spark-2.3.1-bin-hadoop2.6/data/mllib/ridge-data/lpsa.data','r') as f:\n",
    "    #for line in f:\n",
    "    readData=f.read().replace(',', ' ').replace('\\n', ' ').strip().split(' ')\n",
    "    #readData=f.read().replace(',', ' ').split(' ')\n"
   ]
  },
  {
   "cell_type": "code",
   "execution_count": 4,
   "metadata": {
    "collapsed": false
   },
   "outputs": [],
   "source": [
    "starttime = datetime.datetime.now()\n",
    "floatReadData = [float(x) for x in readData]"
   ]
  },
  {
   "cell_type": "code",
   "execution_count": 5,
   "metadata": {
    "collapsed": true
   },
   "outputs": [],
   "source": [
    "nparrayReadData = np.asarray(floatReadData)"
   ]
  },
  {
   "cell_type": "code",
   "execution_count": 6,
   "metadata": {
    "collapsed": true
   },
   "outputs": [],
   "source": [
    "X = np.delete(nparrayReadData.reshape(nparrayReadData.size/9,9), 0, axis=1)\n",
    "Y = (nparrayReadData[0::9])"
   ]
  },
  {
   "cell_type": "code",
   "execution_count": 7,
   "metadata": {
    "collapsed": false,
    "scrolled": false
   },
   "outputs": [],
   "source": [
    "clf = linear_model.SGDRegressor(n_iter = 100,eta0 = 0.00000001, \n",
    "                                fit_intercept=False,penalty='none',\n",
    "                                epsilon=0.01,l1_ratio=1,learning_rate='invscaling') #for pyspark at iterations=100, step=0.00000001\n"
   ]
  },
  {
   "cell_type": "code",
   "execution_count": 8,
   "metadata": {
    "collapsed": false,
    "scrolled": true
   },
   "outputs": [],
   "source": [
    "model=clf.partial_fit(X,Y)"
   ]
  },
  {
   "cell_type": "code",
   "execution_count": 9,
   "metadata": {
    "collapsed": false
   },
   "outputs": [
    {
     "data": {
      "text/plain": [
       "<bound method SGDRegressor.get_params of SGDRegressor(alpha=0.0001, average=False, epsilon=0.01, eta0=1e-08,\n",
       "       fit_intercept=False, l1_ratio=1, learning_rate='invscaling',\n",
       "       loss='squared_loss', n_iter=100, penalty='none', power_t=0.25,\n",
       "       random_state=None, shuffle=True, verbose=0, warm_start=False)>"
      ]
     },
     "execution_count": 9,
     "metadata": {},
     "output_type": "execute_result"
    }
   ],
   "source": [
    "clf.get_params"
   ]
  },
  {
   "cell_type": "code",
   "execution_count": 10,
   "metadata": {
    "collapsed": false
   },
   "outputs": [],
   "source": [
    "y_predicted = model.predict(X)"
   ]
  },
  {
   "cell_type": "code",
   "execution_count": 12,
   "metadata": {
    "collapsed": false
   },
   "outputs": [
    {
     "name": "stdout",
     "output_type": "stream",
     "text": [
      "Running time = 127\n",
      "Mean Squared Error = 7.4510312154\n"
     ]
    }
   ],
   "source": [
    "mse_val = mse(y_predicted, Y)\n",
    "\n",
    "endtime = datetime.datetime.now()\n",
    "print (\"Running time = %d\") %(endtime - starttime).seconds\n",
    "\n",
    "print(\"Mean Squared Error = \" + str(mse_val))"
   ]
  },
  {
   "cell_type": "code",
   "execution_count": null,
   "metadata": {
    "collapsed": false
   },
   "outputs": [],
   "source": [
    "\n"
   ]
  },
  {
   "cell_type": "code",
   "execution_count": null,
   "metadata": {
    "collapsed": true
   },
   "outputs": [],
   "source": []
  }
 ],
 "metadata": {
  "anaconda-cloud": {},
  "kernelspec": {
   "display_name": "Python [conda root]",
   "language": "python",
   "name": "conda-root-py"
  },
  "language_info": {
   "codemirror_mode": {
    "name": "ipython",
    "version": 2
   },
   "file_extension": ".py",
   "mimetype": "text/x-python",
   "name": "python",
   "nbconvert_exporter": "python",
   "pygments_lexer": "ipython2",
   "version": "2.7.12"
  }
 },
 "nbformat": 4,
 "nbformat_minor": 1
}
